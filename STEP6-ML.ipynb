{
 "cells": [
  {
   "cell_type": "code",
   "execution_count": 78,
   "id": "6c8cda11",
   "metadata": {},
   "outputs": [],
   "source": [
    "import numpy as np\n",
    "import pandas as pd\n",
    "\n",
    "# ml process\n",
    "from sklearn.model_selection import train_test_split\n",
    "from sklearn.preprocessing import StandardScaler\n",
    "\n",
    "# ml algoritems\n",
    "from sklearn.linear_model import LogisticRegression\n",
    "from sklearn.svm import SVC\n",
    "from sklearn.neighbors import KNeighborsClassifier\n",
    "from sklearn.neighbors import NearestNeighbors\n",
    "from sklearn import tree\n",
    "from sklearn.pipeline import Pipeline\n",
    "from sklearn.neighbors import NeighborhoodComponentsAnalysis\n",
    "from sklearn.ensemble import RandomForestClassifier\n",
    "from sklearn.datasets import make_classification\n",
    "from sklearn.ensemble import AdaBoostClassifier\n",
    "from sklearn.ensemble import AdaBoostRegressor\n",
    "\n",
    "# score tests \n",
    "from sklearn.metrics import confusion_matrix\n",
    "from sklearn.metrics import f1_score\n",
    "from sklearn.metrics import accuracy_score\n",
    "from sklearn.metrics import precision_score\n",
    "from sklearn.metrics import recall_score\n",
    "\n",
    "# graphs\n",
    "from pandas.plotting import radviz\n",
    "import math\n",
    "import matplotlib.pyplot as plt\n",
    "import matplotlib.cm as cm\n",
    "import seaborn as sns\n",
    "from matplotlib.colors import ListedColormap\n",
    "%matplotlib inline\n",
    "from sklearn.metrics import PrecisionRecallDisplay\n",
    "from sklearn import metrics"
   ]
  },
  {
   "cell_type": "code",
   "execution_count": 177,
   "id": "3a27de6f",
   "metadata": {},
   "outputs": [],
   "source": [
    "df = pd.read_csv('For_ML.csv')"
   ]
  },
  {
   "cell_type": "code",
   "execution_count": 178,
   "id": "278f4a74",
   "metadata": {},
   "outputs": [],
   "source": [
    "X = df.drop('Book_like',axis=1)\n",
    "y = df['Book_like']\n",
    "X_train, X_test, y_train, y_test = train_test_split(X, y, test_size=0.2, random_state=42)"
   ]
  },
  {
   "cell_type": "code",
   "execution_count": 179,
   "id": "eef97c0d",
   "metadata": {},
   "outputs": [
    {
     "name": "stdout",
     "output_type": "stream",
     "text": [
      "              precision    recall  f1-score   support\n",
      "\n",
      "           0       0.57      0.56      0.57      6412\n",
      "           1       0.57      0.58      0.57      6366\n",
      "\n",
      "    accuracy                           0.57     12778\n",
      "   macro avg       0.57      0.57      0.57     12778\n",
      "weighted avg       0.57      0.57      0.57     12778\n",
      "\n",
      "[[3576 2836]\n",
      " [2658 3708]]\n"
     ]
    }
   ],
   "source": [
    "model_ABC = AdaBoostClassifier(n_estimators=100)\n",
    "model_ABC.fit(X_train, y_train)\n",
    "expected_y  = y_test\n",
    "predicted_y = model_ABC.predict(X_test)\n",
    "print(metrics.classification_report(expected_y, predicted_y))\n",
    "print(metrics.confusion_matrix(expected_y, predicted_y))"
   ]
  },
  {
   "cell_type": "code",
   "execution_count": 180,
   "id": "a0e7b730",
   "metadata": {},
   "outputs": [
    {
     "name": "stdout",
     "output_type": "stream",
     "text": [
      "Accuracy is: 0.5700422601346063\n",
      "Precision is: 0.5666259168704156\n",
      "Recall is: 0.5824693685202639\n",
      "F1 is: 0.5744384198295894\n"
     ]
    }
   ],
   "source": [
    "print(\"Accuracy is:\",metrics.accuracy_score(expected_y, predicted_y))\n",
    "print(\"Precision is:\",metrics.precision_score(expected_y, predicted_y))\n",
    "print(\"Recall is:\",metrics.recall_score(expected_y, predicted_y))\n",
    "print(\"F1 is:\",metrics.f1_score(expected_y, predicted_y))"
   ]
  },
  {
   "cell_type": "code",
   "execution_count": 181,
   "id": "41a1009b",
   "metadata": {},
   "outputs": [
    {
     "data": {
      "image/png": "[encoded data removed]",
      "text/plain": [
       "<Figure size 360x288 with 2 Axes>"
      ]
     },
     "metadata": {
      "needs_background": "light"
     },
     "output_type": "display_data"
    }
   ],
   "source": [
    "fig, ax = plt.subplots(figsize=(5,4))\n",
    "plt.tight_layout()\n",
    "cnf_matrix = metrics.confusion_matrix(expected_y, predicted_y)\n",
    "plt.title('Confusion Matrix', y=1.01, fontsize=20)\n",
    "sns.heatmap(pd.DataFrame(cnf_matrix), annot=True, cmap=\"RdPu\" ,fmt='g')\n",
    "plt.ylabel('Actual label', fontsize=16)\n",
    "plt.xlabel('Predicted label', fontsize=16)\n",
    "plt.tight_layout()"
   ]
  }
 ],
 "metadata": {
  "kernelspec": {
   "display_name": "Python 3",
   "language": "python",
   "name": "python3"
  },
  "language_info": {
   "codemirror_mode": {
    "name": "ipython",
    "version": 3
   },
   "file_extension": ".py",
   "mimetype": "text/x-python",
   "name": "python",
   "nbconvert_exporter": "python",
   "pygments_lexer": "ipython3",
   "version": "3.8.8"
  }
 },
 "nbformat": 4,
 "nbformat_minor": 5
}
